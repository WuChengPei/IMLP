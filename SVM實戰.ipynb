{
 "cells": [
  {
   "cell_type": "markdown",
   "metadata": {},
   "source": [
    "# 乳癌資料庫預測SVM分類\n",
    ">使用scikit-learn 機器學習套件裡的SVR演算法\n",
    "\n",
    "* (一)引入函式庫及內建乳癌資料集<br>\n",
    "引入之函式庫如下<br>\n",
    "sklearn.datasets: 用來匯入內建之乳癌資料集`datasets.load_breast_cancer()`<br>\n",
    "sklearn.SVR: 支持向量機回歸分析之演算法<br>\n",
    "matplotlib.pyplot: 用來繪製影像"
   ]
  },
  {
   "cell_type": "code",
   "execution_count": 21,
   "metadata": {},
   "outputs": [],
   "source": [
    "from sklearn import svm\n",
    "from sklearn import datasets\n",
    "\n",
    "import pandas as pd \n",
    "import numpy as np\n",
    "import matplotlib.pyplot as plt \n",
    "\n",
    "from sklearn.model_selection import train_test_split, GridSearchCV\n",
    "from sklearn.metrics import accuracy_score"
   ]
  },
  {
   "cell_type": "markdown",
   "metadata": {},
   "source": [
    "## Step1. 下載資料"
   ]
  },
  {
   "cell_type": "code",
   "execution_count": 22,
   "metadata": {},
   "outputs": [],
   "source": [
    "# 載入sklearn內建的乳癌資料集\n",
    "breast_cancer=datasets.load_breast_cancer()"
   ]
  },
  {
   "cell_type": "code",
   "execution_count": 5,
   "metadata": {},
   "outputs": [
    {
     "name": "stdout",
     "output_type": "stream",
     "text": [
      "dict_keys(['data', 'target', 'frame', 'target_names', 'DESCR', 'feature_names', 'filename', 'data_module'])\n",
      "['mean radius' 'mean texture' 'mean perimeter' 'mean area'\n",
      " 'mean smoothness' 'mean compactness' 'mean concavity'\n",
      " 'mean concave points' 'mean symmetry' 'mean fractal dimension'\n",
      " 'radius error' 'texture error' 'perimeter error' 'area error'\n",
      " 'smoothness error' 'compactness error' 'concavity error'\n",
      " 'concave points error' 'symmetry error' 'fractal dimension error'\n",
      " 'worst radius' 'worst texture' 'worst perimeter' 'worst area'\n",
      " 'worst smoothness' 'worst compactness' 'worst concavity'\n",
      " 'worst concave points' 'worst symmetry' 'worst fractal dimension']\n",
      "['malignant' 'benign']\n"
     ]
    }
   ],
   "source": [
    "features=breast_cancer.data\n",
    "# 取出目標變數（標籤）\n",
    "target=breast_cancer.target\n",
    "print(breast_cancer.keys())\n",
    "print(breast_cancer.feature_names)\n",
    "print(breast_cancer.target_names)\n",
    "# print(features)\n",
    "# print(target)"
   ]
  },
  {
   "cell_type": "code",
   "execution_count": 6,
   "metadata": {},
   "outputs": [
    {
     "name": "stdout",
     "output_type": "stream",
     "text": [
      "['malignant' 'benign']\n"
     ]
    }
   ],
   "source": [
    "target_names=breast_cancer.target_names\n",
    "print(target_names) #['malignant' 'benign']\n",
    "labels=target_names[target]\n",
    "# labels"
   ]
  },
  {
   "cell_type": "code",
   "execution_count": 15,
   "metadata": {},
   "outputs": [],
   "source": [
    "X = breast_cancer.data\n",
    "y = breast_cancer.target.astype(float)"
   ]
  },
  {
   "cell_type": "markdown",
   "metadata": {},
   "source": [
    "## Step2. 區分訓練集與測試集"
   ]
  },
  {
   "cell_type": "code",
   "execution_count": 16,
   "metadata": {},
   "outputs": [],
   "source": [
    "X_train, X_test, y_train, y_test = train_test_split(X, y, test_size=0.3, random_state=0)"
   ]
  },
  {
   "cell_type": "markdown",
   "metadata": {},
   "source": [
    "## Step3. 建模"
   ]
  },
  {
   "cell_type": "code",
   "execution_count": 26,
   "metadata": {},
   "outputs": [
    {
     "name": "stdout",
     "output_type": "stream",
     "text": [
      "最佳參數: {'C': 100, 'gamma': 'scale', 'kernel': 'rbf'}\n"
     ]
    },
    {
     "name": "stderr",
     "output_type": "stream",
     "text": [
      "c:\\users\\user\\appdata\\local\\programs\\python\\python39\\lib\\site-packages\\sklearn\\model_selection\\_validation.py:528: FitFailedWarning: \n",
      "25 fits failed out of a total of 100.\n",
      "The score on these train-test partitions for these parameters will be set to nan.\n",
      "If these failures are not expected, you can try to debug them by setting error_score='raise'.\n",
      "\n",
      "Below are more details about the failures:\n",
      "--------------------------------------------------------------------------------\n",
      "25 fits failed with the following error:\n",
      "Traceback (most recent call last):\n",
      "  File \"c:\\users\\user\\appdata\\local\\programs\\python\\python39\\lib\\site-packages\\sklearn\\model_selection\\_validation.py\", line 866, in _fit_and_score\n",
      "    estimator.fit(X_train, y_train, **fit_params)\n",
      "  File \"c:\\users\\user\\appdata\\local\\programs\\python\\python39\\lib\\site-packages\\sklearn\\base.py\", line 1382, in wrapper\n",
      "    estimator._validate_params()\n",
      "  File \"c:\\users\\user\\appdata\\local\\programs\\python\\python39\\lib\\site-packages\\sklearn\\base.py\", line 436, in _validate_params\n",
      "    validate_parameter_constraints(\n",
      "  File \"c:\\users\\user\\appdata\\local\\programs\\python\\python39\\lib\\site-packages\\sklearn\\utils\\_param_validation.py\", line 98, in validate_parameter_constraints\n",
      "    raise InvalidParameterError(\n",
      "sklearn.utils._param_validation.InvalidParameterError: The 'C' parameter of SVR must be a float in the range (0.0, inf]. Got 0 instead.\n",
      "\n",
      "  warnings.warn(some_fits_failed_message, FitFailedWarning)\n",
      "c:\\users\\user\\appdata\\local\\programs\\python\\python39\\lib\\site-packages\\sklearn\\model_selection\\_search.py:1108: UserWarning: One or more of the test scores are non-finite: [        nan         nan         nan         nan         nan  0.70340068\n",
      "  0.00766113  0.61602644  0.1488927  -0.011186    0.73641394  0.00766113\n",
      "  0.59966569  0.1488927  -0.011186    0.76271425  0.00766113  0.59966569\n",
      "  0.1488927  -0.011186  ]\n",
      "  warnings.warn(\n"
     ]
    }
   ],
   "source": [
    "param_grid = {\n",
    "    'C': [0, 1, 10, 100],\n",
    "    'gamma': ['scale', 'auto', 0.001, 0.01, 0.1],\n",
    "    'kernel': ['rbf']\n",
    "}\n",
    "\n",
    "clf=svm.SVR()\n",
    "clf_search = GridSearchCV(clf, param_grid, cv=5, scoring='r2')\n",
    "clf_search.fit(X_train, y_train)\n",
    "best_clf = clf_search.best_estimator_\n",
    "print(f\"最佳參數: {clf_search.best_params_}\")"
   ]
  },
  {
   "cell_type": "markdown",
   "metadata": {},
   "source": [
    "## Step4. 預測\n",
    "\n",
    "```\n",
    "\n",
    "```\n"
   ]
  },
  {
   "cell_type": "code",
   "execution_count": 27,
   "metadata": {},
   "outputs": [
    {
     "name": "stdout",
     "output_type": "stream",
     "text": [
      "[ 2.92888769e-01  9.92359136e-01  1.07185696e+00  6.96443306e-01\n",
      "  1.23511133e+00  1.00453938e+00  1.06606352e+00  1.06259122e+00\n",
      "  9.11763378e-01  1.01063346e+00  6.53006128e-01  7.65295189e-01\n",
      "  9.56442765e-01  4.26502044e-01  7.21524005e-01  1.20114537e-01\n",
      "  8.89478060e-01 -6.59544347e-03 -1.04409368e-01  3.65132196e-02\n",
      " -2.04413760e-01  3.14930271e-01  9.92558943e-01  9.49881568e-01\n",
      " -2.17274445e-01  9.13370406e-01  9.90731946e-01  7.75939530e-01\n",
      "  1.00872050e+00  1.07003447e-01  1.14779944e+00  5.04190020e-02\n",
      "  7.84979627e-01  2.11441665e-02  1.00758271e+00  3.83823043e-03\n",
      "  8.11896195e-01 -2.28092639e-02  9.46240524e-01  6.77606866e-02\n",
      "  4.33028551e-01  9.26494591e-01  8.05941325e-02  1.01445006e+00\n",
      "  5.84021272e-01  2.07372743e-02  9.55585037e-01  9.20214465e-01\n",
      "  1.08626895e+00  1.71561253e-01 -2.01590775e-01  7.10044363e-01\n",
      "  2.03546728e-02  1.02247885e+00  1.01187723e+00  1.05465604e+00\n",
      "  1.03339288e+00  9.52066094e-01  1.02036845e+00 -4.80652084e-02\n",
      "  4.41120877e-01 -9.11165372e-03  1.02534851e+00  1.05948407e+00\n",
      " -7.97016157e-02  8.71356499e-01 -5.37540988e-02 -1.49798909e-01\n",
      " -9.33741982e-02  9.42320632e-01  5.38185642e-01 -1.52753735e-01\n",
      "  1.02103553e+00  8.95366650e-01  1.01489361e-02  9.56951880e-01\n",
      "  9.23125856e-01  1.00211639e+00  9.59370676e-01  9.24393326e-01\n",
      "  1.32255012e-01 -1.79395093e-01 -1.23268465e-01  1.15365860e+00\n",
      "  2.66320557e-01  1.06264741e+00  9.64068834e-01  9.26490692e-01\n",
      " -1.77839341e-02 -8.20245814e-02  9.84662762e-01  3.71643164e-01\n",
      "  6.10463524e-01  3.06772382e-01  9.20162653e-01  9.51577634e-01\n",
      "  4.71400269e-02  8.60036159e-01  9.24881160e-01  9.47370336e-01\n",
      "  9.38389602e-01  1.06189235e+00  9.64914680e-01  8.66637774e-01\n",
      "  1.45955210e-02  8.97619749e-01 -7.20262893e-02  6.90467008e-01\n",
      "  4.27101751e-01  4.38164405e-01  8.92148463e-01 -1.22530929e-01\n",
      "  5.07565820e-05  6.69926264e-01  9.65305037e-01  8.61288185e-01\n",
      "  6.53401299e-01  1.11105336e+00  8.17820529e-01  1.05626577e+00\n",
      "  9.70230637e-01  1.05088424e+00  6.66835330e-01  9.63017768e-01\n",
      " -7.97669546e-02  8.75091822e-01  5.19260355e-01  1.05700600e+00\n",
      "  1.01640827e+00  1.03597580e+00 -4.12414381e-02  9.20247528e-01\n",
      "  1.04422755e+00  8.94978130e-01  9.32930999e-01  1.09612347e+00\n",
      "  6.83242777e-01  3.56402419e-01  9.48972974e-02  1.00214839e+00\n",
      "  1.05176723e+00  1.15909701e+00 -2.81022336e-03  1.02431002e+00\n",
      "  1.05160973e+00 -3.44137587e-02  8.00947793e-01  3.07608247e-01\n",
      "  9.51423250e-01  9.94766497e-01  1.05376809e+00  9.08345085e-01\n",
      "  9.30674732e-01  7.65322397e-01  9.96147592e-01  3.30335606e-01\n",
      "  8.52559005e-01  3.35362597e-01  1.05392826e+00 -2.50186885e-01\n",
      " -1.28720067e-01  1.05860000e+00  8.69115074e-01 -1.51538238e-02\n",
      "  1.05641567e+00  1.18268250e-01  2.04655735e-01  1.22300212e-02\n",
      "  8.62745465e-01  1.04136319e+00  9.69670687e-01]\n"
     ]
    }
   ],
   "source": [
    "y_pred = best_clf.predict(X_test)\n",
    "print(y_pred)"
   ]
  },
  {
   "cell_type": "markdown",
   "metadata": {},
   "source": [
    "## Step5. 準確度分析"
   ]
  },
  {
   "cell_type": "code",
   "execution_count": 29,
   "metadata": {},
   "outputs": [
    {
     "name": "stdout",
     "output_type": "stream",
     "text": [
      "0.7795976541327622\n",
      "0.8197078278553209\n"
     ]
    }
   ],
   "source": [
    "print(best_clf.score(X_train, y_train))\n",
    "print(best_clf.score(X_test, y_test))"
   ]
  },
  {
   "cell_type": "code",
   "execution_count": 37,
   "metadata": {},
   "outputs": [
    {
     "data": {
      "image/png": "[encoded data removed]",
      "text/plain": [
       "<Figure size 432x288 with 1 Axes>"
      ]
     },
     "metadata": {
      "needs_background": "light"
     },
     "output_type": "display_data"
    }
   ],
   "source": [
    "X_vis = X[:, :2]  # 僅使用 mean radius 和 mean texture\n",
    "X_train_vis, X_test_vis, y_train_vis, y_test_vis = train_test_split(X_vis, y, test_size=0.3, random_state=0)\n",
    "model_vis = svm.SVR(kernel=clf_search.best_params_['kernel'], \n",
    "                    C=clf_search.best_params_['C'], \n",
    "                    gamma=clf_search.best_params_['gamma'])\n",
    "model_vis.fit(X_train_vis, y_train_vis)\n",
    "\n",
    "def SVR_plot(X, y, model):\n",
    "    grid=0.02\n",
    "    x_min, x_max = X[:, 0].min() - 1, X[:, 0].max() + 1\n",
    "    y_min, y_max = X[:, 1].min() - 1, X[:, 1].max() + 1\n",
    "    xx, yy = np.meshgrid(np.arange(x_min, x_max, grid), np.arange(y_min, y_max, grid))\n",
    "    \n",
    "    # 預測網格點並轉為分類標籤\n",
    "    Z = model.predict(np.c_[xx.ravel(), yy.ravel()])\n",
    "    Z = (Z >= 0.5).astype(int).reshape(xx.shape)\n",
    "    \n",
    "    # 繪製決策邊界\n",
    "    plt.contourf(xx, yy, Z, cmap=plt.cm.coolwarm, alpha=0.8)\n",
    "    plt.scatter(X[:, 0], X[:, 1], c=y, cmap=plt.cm.coolwarm, edgecolors='k')\n",
    "    plt.title('SVR model')\n",
    "    plt.show()\n",
    "    \n",
    "SVR_plot(X_test_vis, y_test_vis, model_vis)"
   ]
  },
  {
   "cell_type": "code",
   "execution_count": null,
   "metadata": {},
   "outputs": [],
   "source": []
  }
 ],
 "metadata": {
  "kernelspec": {
   "display_name": "Python 3",
   "language": "python",
   "name": "python3"
  },
  "language_info": {
   "codemirror_mode": {
    "name": "ipython",
    "version": 3
   },
   "file_extension": ".py",
   "mimetype": "text/x-python",
   "name": "python",
   "nbconvert_exporter": "python",
   "pygments_lexer": "ipython3",
   "version": "3.9.2"
  }
 },
 "nbformat": 4,
 "nbformat_minor": 2
}
